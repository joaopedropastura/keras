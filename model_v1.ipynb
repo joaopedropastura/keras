{
  "nbformat": 4,
  "nbformat_minor": 0,
  "metadata": {
    "colab": {
      "provenance": [],
      "authorship_tag": "ABX9TyPsGy81cfymOamOeVdLgQ3n",
      "include_colab_link": true
    },
    "kernelspec": {
      "name": "python3",
      "display_name": "Python 3"
    },
    "language_info": {
      "name": "python"
    }
  },
  "cells": [
    {
      "cell_type": "markdown",
      "metadata": {
        "id": "view-in-github",
        "colab_type": "text"
      },
      "source": [
        "<a href=\"https://colab.research.google.com/github/joaopedropastura/keras/blob/main/model_v1.ipynb\" target=\"_parent\"><img src=\"https://colab.research.google.com/assets/colab-badge.svg\" alt=\"Open In Colab\"/></a>"
      ]
    },
    {
      "cell_type": "code",
      "execution_count": null,
      "metadata": {
        "id": "jJ3Aak07spNl"
      },
      "outputs": [],
      "source": [
        "!pip install keras\n",
        "!pip install pandas\n",
        "!pip install tensorflow\n"
      ]
    },
    {
      "cell_type": "code",
      "source": [
        "import keras\n",
        "import pandas as pd\n",
        "from sklearn.model_selection import train_test_split\n",
        "from keras.models import Sequential\n",
        "from keras.layers import Dense\n",
        "import matplotlib.pyplot as plt\n",
        "from keras import models\n",
        "from keras import layers\n",
        "from keras import activations\n",
        "from keras import initializers\n",
        "from keras import regularizers\n",
        "from keras import optimizers\n",
        "from keras import metrics\n",
        "from keras import losses\n",
        "from keras import callbacks\n",
        "from keras.preprocessing import image"
      ],
      "metadata": {
        "id": "hOK3Aldl7LHt"
      },
      "execution_count": 4,
      "outputs": []
    },
    {
      "cell_type": "code",
      "source": [
        "model = models.Sequencial()"
      ],
      "metadata": {
        "id": "N0gCeYIexnGg"
      },
      "execution_count": null,
      "outputs": []
    },
    {
      "cell_type": "code",
      "source": [
        "model.add(layers.Conv2D(\n",
        "    32, (5,5), # 32 a quantidade de filtros, (5x5) = tamanho do filtro gerando imagens 60x60\n",
        "    input_shape = (64, 64, 3), # 3 = 3 canais rgb, 64 = iamgens com o tamanho 64x64\n",
        "    activation = 'relu'\n",
        "))\n",
        "\n",
        "model.add(layers.MaxPooling2D(\n",
        "    pool_size = (2, 2) #subsalpling, vamos de 2 em 2 pegando o maior valor\n",
        "))\n",
        "\n",
        "model.add(layers.Conv2D(\n",
        "    16, (5,5), # 16 a quantidade de filtros, (5x5) = tamanho do filtro gerando imagens 26x26\n",
        "    input_shape = (30, 30, 3), # 3 = 3 canais rgb, 30 = iamgens com o tamanho 30x30\n",
        "    activation = 'relu'\n",
        "))\n",
        "\n",
        "model.add(layers.MaxPooling2D(\n",
        "    pool_size = (2, 2) #subsalpling, vamos de 2 em 2 pegando o maior valor\n",
        "))\n",
        "\n",
        "# model.add(layers.Conv2D(\n",
        "#     8, (5,5), # 32 a quantidade de filtros, (5x5) = tamanho do filtro gerando imagens 60x60\n",
        "#     input_shape = (13, 13, 3), # 3 = 3 canais rgb, 64 = iamgens com o tamanho 64x64\n",
        "#     activation = 'relu'\n",
        "# ))\n",
        "\n",
        "# model.add(layers.MaxPooling2D(\n",
        "#     pool_size = (2, 2) #subsalpling, vamos de 2 em 2 pegando o maior valor\n",
        "# ))\n",
        "\n",
        "model.add(layers.Conv2D(\n",
        "    4, (5,5), # 32 a quantidade de filtros, (5x5) = tamanho do filtro gerando imagens 60x60\n",
        "    input_shape = (13, 13, 3), # 3 = 3 canais rgb, 64 = iamgens com o tamanho 64x64\n",
        "    activation = 'relu'\n",
        "))\n",
        "\n",
        "model.add(layers.MaxPooling2D(\n",
        "    pool_size = (2, 2) #subsalpling, vamos de 2 em 2 pegando o maior valor\n",
        "))\n"
      ],
      "metadata": {
        "id": "KPQNDsnaxsaA"
      },
      "execution_count": null,
      "outputs": []
    },
    {
      "cell_type": "code",
      "source": [
        "model.add(layers.Flatten())\n",
        "model.add(layers.Dense(\n",
        "    256, #\n",
        "    kernel_regularizer= regularizers.L2(1e-4),\n",
        "    kernel_initializer= initializers.RandomNormal(stddev = 1), #incializadores iniciando com valores maiores que um\n",
        "    bias_initializer= initializers.Zeros()\n",
        "))\n",
        "model.add(layers.Dropout(0.2)) #20% da camada anterior é desligada para evitar overfitting\n",
        "model.add(layers.Activation(activations.relu))\n",
        "\n",
        "\n",
        "model.add(layers.Dense(\n",
        "    64, #\n",
        "    kernel_regularizer= regularizers.L2(1e-4),\n",
        "    kernel_initializer= initializers.RandomNormal(stddev = 1), #incializadores iniciando com valores maiores que um\n",
        "    bias_initializer= initializers.Zeros()\n",
        "))\n",
        "model.add(layers.Activation(activations.relu))\n",
        "#depois da camada de ativação\n",
        "\n",
        "model.add(layers.BatchNormalization())\n",
        "\n",
        "\n",
        "model.add(layers.Dense(\n",
        "    64, #\n",
        "    kernel_regularizer= regularizers.L2(1e-4),\n",
        "    kernel_initializer= initializers.RandomNormal(stddev = 1), #incializadores iniciando com valores maiores que um\n",
        "    bias_initializer= initializers.Zeros()\n",
        "))\n",
        "model.add(layers.Activation(activations.relu))\n",
        "\n",
        "model.add(layers.Dense(\n",
        "    2, #\n",
        "    kernel_regularizer= regularizers.L2(1e-4),\n",
        "    kernel_initializer= initializers.RandomNormal(stddev = 1), #incializadores iniciando com valores maiores que um\n",
        "    bias_initializer= initializers.Zeros()\n",
        "))\n",
        "model.add(layers.Activation(activations.softmax))\n"
      ],
      "metadata": {
        "id": "aQwymx6u2pTQ"
      },
      "execution_count": null,
      "outputs": []
    },
    {
      "cell_type": "code",
      "source": [
        "model.compile(\n",
        "    optimizer=optimizers.Adam(),\n",
        "    loss=losses.BinaryCrossentropy(),\n",
        "    metrics=[metrics.Accuracy()]\n",
        ")"
      ],
      "metadata": {
        "id": "kbPq5xH4QSp3"
      },
      "execution_count": null,
      "outputs": []
    },
    {
      "cell_type": "code",
      "source": [
        "dataGen = image.ImageDataGenerator(\n",
        "    rescale = 1.0/255, # transforma pixeis de ate 255 rgb para valores de 0 a 1\n",
        "    shear_range=0.2,\n",
        "    zoom_range=0.2,\n",
        "    horizontal_flip=True,\n",
        "    vertical_flip=False,\n",
        "    validation_split=0.2\n",
        ")\n",
        "\n",
        "\n",
        "X_train = dataGen.flow_from_directory(\n",
        "    '/content/images',\n",
        "    target_size=(64,64),\n",
        "    batch_size=32,\n",
        "    class_mode='categorical', # 3(categorical, binary, regression)\n",
        "    subset='training'\n",
        "\n",
        ")\n",
        "\n",
        "X_test = dataGen.flow_from_directory(\n",
        "    '/content/images',\n",
        "    target_size=(64,64),\n",
        "    batch_size=32,\n",
        "    class_mode='categorical', # 3(categorical, binary, regression)\n",
        "    subset='validation'\n",
        "\n",
        ")\n",
        "\n",
        "\n",
        "model.fit(\n",
        "    X_train,\n",
        "    steps_per_epoch = 1000,\n",
        "    ephocs = 50,\n",
        "    validation_steps = 100,\n",
        "    callbacks= [\n",
        "        callbacks.EarlyStopping(patience = 4),\n",
        "        callbacks.ModelCheckpoints(\n",
        "            filepath = 'model.{epoch:02d}-{val_loss:.2f}.h5'\n",
        "        )\n",
        "    ]\n",
        ")"
      ],
      "metadata": {
        "id": "RNKzzn4zT5_d"
      },
      "execution_count": null,
      "outputs": []
    },
    {
      "cell_type": "code",
      "source": [],
      "metadata": {
        "id": "e_k7YkoG6WKD"
      },
      "execution_count": null,
      "outputs": []
    }
  ]
}